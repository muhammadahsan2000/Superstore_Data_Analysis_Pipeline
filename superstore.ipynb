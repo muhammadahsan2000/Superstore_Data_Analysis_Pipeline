{
 "cells": [
  {
   "cell_type": "code",
   "execution_count": 1,
   "id": "656db4da",
   "metadata": {},
   "outputs": [],
   "source": [
    "import pandas as pd\n",
    "import boto3\n",
    "from datetime import datetime\n",
    "import os\n",
    "from io import StringIO"
   ]
  },
  {
   "cell_type": "code",
   "execution_count": null,
   "id": "f13e8f28",
   "metadata": {},
   "outputs": [],
   "source": [
    "def process_and_upload_csv(\n",
    "    input_csv_path: str,\n",
    "    bucket_name: str,\n",
    "    date_column: str,\n",
    "    s3_prefix: str = \"orders/snapshot_day=2017-01-01\"\n",
    ") -> None:\n",
    "    \"\"\"\n",
    "    Process CSV file and upload filtered data to S3 in partitioned folders.\n",
    "    \n",
    "    Args:\n",
    "        input_csv_path (str): Path to input CSV file\n",
    "        bucket_name (str): S3 bucket name\n",
    "        date_column (str): Name of the date column in CSV\n",
    "        s3_prefix (str): Prefix for S3 folders\n",
    "    \"\"\"\n",
    "    try:\n",
    "        # Initialize S3 client\n",
    "        s3_client = boto3.client('s3')\n",
    "        \n",
    "        # Read CSV file\n",
    "        print(f\"Reading CSV file: {input_csv_path}\")\n",
    "        df = pd.read_csv(input_csv_path)\n",
    "        \n",
    "        # Convert date column to datetime\n",
    "        df[date_column] = pd.to_datetime(df[date_column])\n",
    "        \n",
    "        # Get unique dates\n",
    "        unique_dates = df[date_column].dt.date.unique()\n",
    "        \n",
    "        # Process each date\n",
    "        for date in unique_dates:\n",
    "            # Filter data for current date\n",
    "            date_str = date.strftime('%Y-%m-%d')\n",
    "            daily_data = df[df[date_column].dt.date == date]\n",
    "            \n",
    "            # Create partition folder name\n",
    "            partition_folder = f\"{s3_prefix}{date_str}\"\n",
    "            \n",
    "            # Convert filtered DataFrame to CSV string\n",
    "            csv_buffer = StringIO()\n",
    "            daily_data.to_csv(csv_buffer, index=False)\n",
    "            \n",
    "            # Define S3 key\n",
    "            s3_key = f\"{partition_folder}/data.csv\"\n",
    "            \n",
    "            # Upload to S3\n",
    "            print(f\"Uploading data for date {date_str} to S3...\")\n",
    "            s3_client.put_object(\n",
    "                Bucket=bucket_name,\n",
    "                Key=s3_key,\n",
    "                Body=csv_buffer.getvalue()\n",
    "            )\n",
    "            print(f\"Successfully uploaded to s3://{bucket_name}/{s3_key}\")\n",
    "            \n",
    "    except Exception as e:\n",
    "        print(f\"Error processing file: {str(e)}\")\n",
    "        raise\n"
   ]
  }
 ],
 "metadata": {
  "kernelspec": {
   "display_name": "Python 3 (ipykernel)",
   "language": "python",
   "name": "python3"
  },
  "language_info": {
   "codemirror_mode": {
    "name": "ipython",
    "version": 3
   },
   "file_extension": ".py",
   "mimetype": "text/x-python",
   "name": "python",
   "nbconvert_exporter": "python",
   "pygments_lexer": "ipython3",
   "version": "3.11.5"
  }
 },
 "nbformat": 4,
 "nbformat_minor": 5
}
